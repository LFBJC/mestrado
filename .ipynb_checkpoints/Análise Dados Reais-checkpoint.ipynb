{
 "cells": [
  {
   "cell_type": "code",
   "execution_count": 1,
   "id": "b230f0bf",
   "metadata": {},
   "outputs": [],
   "source": [
    "import pandas as pd\n",
    "import numpy as np\n",
    "from matplotlib import pyplot as plt\n",
    "pasta_dados_reais = \"C:/mestrado/Pesquisa/Dados reais\""
   ]
  },
  {
   "cell_type": "code",
   "execution_count": null,
   "id": "2e37cc46-a020-4e72-a9aa-f89fb881c550",
   "metadata": {},
   "outputs": [],
   "source": [
    "var_df = pd.read_csv(f\"{pasta_dados_reais}/VAR/demanda energética - kaggle/resultados.csv\")\n",
    "arima_df = pd.read_excel(f\"{pasta_dados_reais}/ARIMA/demanda energética - kaggle/resultados de teste.xlsx\")\n",
    "caminho_lstm_agrupada = f\"{pasta_dados_reais}/LSTM - AGRUPADO EM BOXPLOTS/Saída da otimização de hiperparâmetros/demanda energética - kaggle\"\n",
    "caminho_lstm_sem_agrupamento = f\"{pasta_dados_reais}/LSTM - SEM AGRUPAMENTO/Saída da otimização de hiperparâmetros/demanda energética - kaggle\"\n",
    "caminho_cnn = f\"{pasta_dados_reais}/CNN/Saída da otimização de hiperparâmetros/demanda energética - kaggle\"\n",
    "caminhos_redes_neurais_boxplots = [caminho_lstm_agrupada, caminho_cnn]"
   ]
  },
  {
   "cell_type": "code",
   "execution_count": 2,
   "id": "d2e6ee19",
   "metadata": {},
   "outputs": [
    {
     "data": {
      "text/html": [
       "<div>\n",
       "<style scoped>\n",
       "    .dataframe tbody tr th:only-of-type {\n",
       "        vertical-align: middle;\n",
       "    }\n",
       "\n",
       "    .dataframe tbody tr th {\n",
       "        vertical-align: top;\n",
       "    }\n",
       "\n",
       "    .dataframe thead th {\n",
       "        text-align: right;\n",
       "    }\n",
       "</style>\n",
       "<table border=\"1\" class=\"dataframe\">\n",
       "  <thead>\n",
       "    <tr style=\"text-align: right;\">\n",
       "      <th></th>\n",
       "      <th>Tipo</th>\n",
       "      <th>Coluna</th>\n",
       "      <th>Número de passos à frente</th>\n",
       "      <th>Score</th>\n",
       "    </tr>\n",
       "  </thead>\n",
       "  <tbody>\n",
       "    <tr>\n",
       "      <th>0</th>\n",
       "      <td>BOXPLOT</td>\n",
       "      <td>med</td>\n",
       "      <td>1</td>\n",
       "      <td>0.061771</td>\n",
       "    </tr>\n",
       "    <tr>\n",
       "      <th>1</th>\n",
       "      <td>BOXPLOT</td>\n",
       "      <td>med</td>\n",
       "      <td>20</td>\n",
       "      <td>0.073201</td>\n",
       "    </tr>\n",
       "    <tr>\n",
       "      <th>2</th>\n",
       "      <td>BOXPLOT</td>\n",
       "      <td>med</td>\n",
       "      <td>5</td>\n",
       "      <td>0.055708</td>\n",
       "    </tr>\n",
       "    <tr>\n",
       "      <th>3</th>\n",
       "      <td>BOXPLOT</td>\n",
       "      <td>q1</td>\n",
       "      <td>1</td>\n",
       "      <td>0.074396</td>\n",
       "    </tr>\n",
       "    <tr>\n",
       "      <th>4</th>\n",
       "      <td>BOXPLOT</td>\n",
       "      <td>q1</td>\n",
       "      <td>20</td>\n",
       "      <td>0.073767</td>\n",
       "    </tr>\n",
       "    <tr>\n",
       "      <th>5</th>\n",
       "      <td>BOXPLOT</td>\n",
       "      <td>q1</td>\n",
       "      <td>5</td>\n",
       "      <td>0.061470</td>\n",
       "    </tr>\n",
       "    <tr>\n",
       "      <th>6</th>\n",
       "      <td>BOXPLOT</td>\n",
       "      <td>q3</td>\n",
       "      <td>1</td>\n",
       "      <td>0.054907</td>\n",
       "    </tr>\n",
       "    <tr>\n",
       "      <th>7</th>\n",
       "      <td>BOXPLOT</td>\n",
       "      <td>q3</td>\n",
       "      <td>20</td>\n",
       "      <td>0.076394</td>\n",
       "    </tr>\n",
       "    <tr>\n",
       "      <th>8</th>\n",
       "      <td>BOXPLOT</td>\n",
       "      <td>q3</td>\n",
       "      <td>5</td>\n",
       "      <td>0.057910</td>\n",
       "    </tr>\n",
       "    <tr>\n",
       "      <th>9</th>\n",
       "      <td>BOXPLOT</td>\n",
       "      <td>whishi</td>\n",
       "      <td>1</td>\n",
       "      <td>0.063605</td>\n",
       "    </tr>\n",
       "    <tr>\n",
       "      <th>10</th>\n",
       "      <td>BOXPLOT</td>\n",
       "      <td>whishi</td>\n",
       "      <td>20</td>\n",
       "      <td>0.089879</td>\n",
       "    </tr>\n",
       "    <tr>\n",
       "      <th>11</th>\n",
       "      <td>BOXPLOT</td>\n",
       "      <td>whishi</td>\n",
       "      <td>5</td>\n",
       "      <td>0.069589</td>\n",
       "    </tr>\n",
       "    <tr>\n",
       "      <th>12</th>\n",
       "      <td>BOXPLOT</td>\n",
       "      <td>whislo</td>\n",
       "      <td>1</td>\n",
       "      <td>0.078582</td>\n",
       "    </tr>\n",
       "    <tr>\n",
       "      <th>13</th>\n",
       "      <td>BOXPLOT</td>\n",
       "      <td>whislo</td>\n",
       "      <td>20</td>\n",
       "      <td>0.071619</td>\n",
       "    </tr>\n",
       "    <tr>\n",
       "      <th>14</th>\n",
       "      <td>BOXPLOT</td>\n",
       "      <td>whislo</td>\n",
       "      <td>5</td>\n",
       "      <td>0.067536</td>\n",
       "    </tr>\n",
       "    <tr>\n",
       "      <th>15</th>\n",
       "      <td>DADOS PUROS</td>\n",
       "      <td>TOTALDEMAND</td>\n",
       "      <td>1</td>\n",
       "      <td>0.009794</td>\n",
       "    </tr>\n",
       "    <tr>\n",
       "      <th>16</th>\n",
       "      <td>DADOS PUROS</td>\n",
       "      <td>TOTALDEMAND</td>\n",
       "      <td>20</td>\n",
       "      <td>0.082292</td>\n",
       "    </tr>\n",
       "    <tr>\n",
       "      <th>17</th>\n",
       "      <td>DADOS PUROS</td>\n",
       "      <td>TOTALDEMAND</td>\n",
       "      <td>5</td>\n",
       "      <td>0.022589</td>\n",
       "    </tr>\n",
       "  </tbody>\n",
       "</table>\n",
       "</div>"
      ],
      "text/plain": [
       "           Tipo       Coluna  Número de passos à frente     Score\n",
       "0       BOXPLOT          med                          1  0.061771\n",
       "1       BOXPLOT          med                         20  0.073201\n",
       "2       BOXPLOT          med                          5  0.055708\n",
       "3       BOXPLOT           q1                          1  0.074396\n",
       "4       BOXPLOT           q1                         20  0.073767\n",
       "5       BOXPLOT           q1                          5  0.061470\n",
       "6       BOXPLOT           q3                          1  0.054907\n",
       "7       BOXPLOT           q3                         20  0.076394\n",
       "8       BOXPLOT           q3                          5  0.057910\n",
       "9       BOXPLOT       whishi                          1  0.063605\n",
       "10      BOXPLOT       whishi                         20  0.089879\n",
       "11      BOXPLOT       whishi                          5  0.069589\n",
       "12      BOXPLOT       whislo                          1  0.078582\n",
       "13      BOXPLOT       whislo                         20  0.071619\n",
       "14      BOXPLOT       whislo                          5  0.067536\n",
       "15  DADOS PUROS  TOTALDEMAND                          1  0.009794\n",
       "16  DADOS PUROS  TOTALDEMAND                         20  0.082292\n",
       "17  DADOS PUROS  TOTALDEMAND                          5  0.022589"
      ]
     },
     "execution_count": 2,
     "metadata": {},
     "output_type": "execute_result"
    }
   ],
   "source": [
    "arima_df"
   ]
  },
  {
   "cell_type": "code",
   "execution_count": 3,
   "id": "3a6caaf9",
   "metadata": {},
   "outputs": [
    {
     "data": {
      "text/plain": [
       "Tipo                          object\n",
       "Coluna                        object\n",
       "Número de passos à frente      int64\n",
       "Score                        float64\n",
       "dtype: object"
      ]
     },
     "execution_count": 3,
     "metadata": {},
     "output_type": "execute_result"
    }
   ],
   "source": [
    "arima_df.dtypes"
   ]
  },
  {
   "cell_type": "markdown",
   "id": "b77f8d8e",
   "metadata": {},
   "source": [
    "# DADOS AGRUPADOS EM BOXPLOTS"
   ]
  },
  {
   "cell_type": "code",
   "execution_count": 4,
   "id": "04ba9da6",
   "metadata": {},
   "outputs": [
    {
     "name": "stdout",
     "output_type": "stream",
     "text": [
      "1 PASSOS À FRENTE:\n",
      "\tLSTM: 0.032862833163986\n",
      "\tCNN: 0.9990394395192757\n",
      "\tVAR:0.0561677005020821\n",
      "\tARIMA:\n",
      "\t\tColuna    Score\n",
      "\t\t   med 0.061771\n",
      "\t\t    q1 0.074396\n",
      "\t\t    q3 0.054907\n",
      "\t\twhishi 0.063605\n",
      "\t\twhislo 0.078582\n",
      "5 PASSOS À FRENTE:\n",
      "\tLSTM: 0.0071571487964963\n",
      "\tCNN: 0.9989162686750772\n",
      "\tVAR:0.0690029492487753\n",
      "\tARIMA:\n",
      "\t\tColuna    Score\n",
      "\t\t   med 0.055708\n",
      "\t\t    q1 0.061470\n",
      "\t\t    q3 0.057910\n",
      "\t\twhishi 0.069589\n",
      "\t\twhislo 0.067536\n",
      "20 PASSOS À FRENTE:\n",
      "\tLSTM: 0.0459296785916518\n",
      "\tCNN: 0.9983219152500122\n",
      "\tVAR:0.0655247169544772\n",
      "\tARIMA:\n",
      "\t\tColuna    Score\n",
      "\t\t   med 0.073201\n",
      "\t\t    q1 0.073767\n",
      "\t\t    q3 0.076394\n",
      "\t\twhishi 0.089879\n",
      "\t\twhislo 0.071619\n"
     ]
    }
   ],
   "source": [
    "for steps_ahead in [1, 5, 20]:\n",
    "    print(f\"{steps_ahead} PASSOS À FRENTE:\")\n",
    "    for caminho in caminhos_redes_neurais_boxplots:\n",
    "        nn_score = pd.read_csv(f\"{caminho}/{steps_ahead} steps ahead/opt_hist.csv\")['score'].min()\n",
    "        if 'CNN' in caminho:\n",
    "            print(f'\\tCNN: {nn_score}')\n",
    "        else:\n",
    "            print(f'\\tLSTM: {nn_score}')\n",
    "    print('\\tVAR:' + str(var_df[var_df['steps_ahead'] == steps_ahead]['score'].values[0]))\n",
    "    arima_local = arima_df[np.logical_and(arima_df['Tipo'] == \"BOXPLOT\", arima_df['Número de passos à frente'] == steps_ahead)]\n",
    "    print('\\tARIMA:')\n",
    "    print('\\n'.join(['\\t\\t' + s for s in arima_local[['Coluna', 'Score']].to_string(index=False).split('\\n')]))"
   ]
  },
  {
   "cell_type": "markdown",
   "id": "1a2ee85c",
   "metadata": {},
   "source": [
    "# SEM AGRUPAMENTO"
   ]
  },
  {
   "cell_type": "code",
   "execution_count": 5,
   "id": "6a9d6944",
   "metadata": {},
   "outputs": [
    {
     "name": "stdout",
     "output_type": "stream",
     "text": [
      "1 PASSOS À FRENTE:\n",
      "\tLSTM: 0.004841821986158\n",
      "\tARIMA: 0.00979362115022078\n",
      "5 PASSOS À FRENTE:\n",
      "\tLSTM: 0.0071571487964963\n",
      "\tARIMA: 0.02258881491865659\n",
      "20 PASSOS À FRENTE:\n",
      "\tLSTM: 0.0490442128364069\n",
      "\tARIMA: 0.08229172346428196\n"
     ]
    }
   ],
   "source": [
    "for steps_ahead in [1, 5, 20]:\n",
    "    print(f\"{steps_ahead} PASSOS À FRENTE:\")\n",
    "    score_lstm = pd.read_csv(f\"{caminho_lstm_sem_agrupamento}/{steps_ahead} steps ahead/opt_hist.csv\")['score'].min()\n",
    "    print(f\"\\tLSTM: {score_lstm}\")\n",
    "    score_arima = arima_df[(arima_df['Tipo'] == \"DADOS PUROS\") & (arima_df['Número de passos à frente'] == steps_ahead)]['Score'].values[0]\n",
    "    print(f\"\\tARIMA: {score_arima}\")"
   ]
  },
  {
   "cell_type": "code",
   "execution_count": null,
   "id": "5a262f24",
   "metadata": {},
   "outputs": [],
   "source": []
  }
 ],
 "metadata": {
  "kernelspec": {
   "display_name": "Python 3 (ipykernel)",
   "language": "python",
   "name": "python3"
  },
  "language_info": {
   "codemirror_mode": {
    "name": "ipython",
    "version": 3
   },
   "file_extension": ".py",
   "mimetype": "text/x-python",
   "name": "python",
   "nbconvert_exporter": "python",
   "pygments_lexer": "ipython3",
   "version": "3.9.19"
  }
 },
 "nbformat": 4,
 "nbformat_minor": 5
}
